{
 "cells": [
  {
   "cell_type": "code",
   "execution_count": 1,
   "metadata": {},
   "outputs": [],
   "source": [
    "import numpy as np\n",
    "\n",
    "\n",
    "data = np.load(\"pavia.npy\")\n",
    "gt = np.load(\"pavia_gt.npy\").reshape(-1)"
   ]
  },
  {
   "cell_type": "code",
   "execution_count": 2,
   "metadata": {},
   "outputs": [
    {
     "data": {
      "text/plain": [
       "(207400,)"
      ]
     },
     "execution_count": 2,
     "metadata": {},
     "output_type": "execute_result"
    }
   ],
   "source": [
    "gt.shape"
   ]
  },
  {
   "cell_type": "code",
   "execution_count": 3,
   "metadata": {},
   "outputs": [
    {
     "data": {
      "text/plain": [
       "(610, 340, 103)"
      ]
     },
     "execution_count": 3,
     "metadata": {},
     "output_type": "execute_result"
    }
   ],
   "source": [
    "data.shape"
   ]
  },
  {
   "cell_type": "code",
   "execution_count": 4,
   "metadata": {},
   "outputs": [],
   "source": [
    "data = data.reshape(-1, 103)"
   ]
  },
  {
   "cell_type": "code",
   "execution_count": 5,
   "metadata": {},
   "outputs": [
    {
     "data": {
      "text/plain": [
       "(207400, 103)"
      ]
     },
     "execution_count": 5,
     "metadata": {},
     "output_type": "execute_result"
    }
   ],
   "source": [
    "data.shape"
   ]
  },
  {
   "cell_type": "code",
   "execution_count": 6,
   "metadata": {},
   "outputs": [
    {
     "data": {
      "text/plain": [
       "(array([0, 1, 2, 3, 4, 5, 6, 7, 8, 9], dtype=uint8),\n",
       " array([164624,   6631,  18649,   2099,   3064,   1345,   5029,   1330,\n",
       "          3682,    947], dtype=int64))"
      ]
     },
     "execution_count": 6,
     "metadata": {},
     "output_type": "execute_result"
    }
   ],
   "source": [
    "np.unique(gt, return_counts=True)"
   ]
  },
  {
   "cell_type": "code",
   "execution_count": 7,
   "metadata": {},
   "outputs": [
    {
     "data": {
      "text/plain": [
       "10"
      ]
     },
     "execution_count": 7,
     "metadata": {},
     "output_type": "execute_result"
    }
   ],
   "source": [
    "n_classes = np.unique(gt).size\n",
    "n_classes"
   ]
  },
  {
   "cell_type": "code",
   "execution_count": 8,
   "metadata": {},
   "outputs": [],
   "source": [
    "data = (data - data.min(axis=0)) / (data.max(axis=0) - data.min(axis=0)) "
   ]
  },
  {
   "cell_type": "code",
   "execution_count": 9,
   "metadata": {},
   "outputs": [
    {
     "data": {
      "text/plain": [
       "(207400, 104)"
      ]
     },
     "execution_count": 9,
     "metadata": {},
     "output_type": "execute_result"
    }
   ],
   "source": [
    "import pandas as pd\n",
    "df = pd.DataFrame(data=np.hstack((data, np.expand_dims(gt, -1))), columns=list(map(str, list(range(data.shape[-1])))) + [\"target\"])\n",
    "df.shape"
   ]
  },
  {
   "cell_type": "code",
   "execution_count": 10,
   "metadata": {},
   "outputs": [
    {
     "data": {
      "text/html": [
       "<div>\n",
       "<style scoped>\n",
       "    .dataframe tbody tr th:only-of-type {\n",
       "        vertical-align: middle;\n",
       "    }\n",
       "\n",
       "    .dataframe tbody tr th {\n",
       "        vertical-align: top;\n",
       "    }\n",
       "\n",
       "    .dataframe thead th {\n",
       "        text-align: right;\n",
       "    }\n",
       "</style>\n",
       "<table border=\"1\" class=\"dataframe\">\n",
       "  <thead>\n",
       "    <tr style=\"text-align: right;\">\n",
       "      <th></th>\n",
       "      <th>0</th>\n",
       "      <th>1</th>\n",
       "      <th>2</th>\n",
       "      <th>3</th>\n",
       "      <th>4</th>\n",
       "      <th>5</th>\n",
       "      <th>6</th>\n",
       "      <th>7</th>\n",
       "      <th>8</th>\n",
       "      <th>9</th>\n",
       "      <th>...</th>\n",
       "      <th>94</th>\n",
       "      <th>95</th>\n",
       "      <th>96</th>\n",
       "      <th>97</th>\n",
       "      <th>98</th>\n",
       "      <th>99</th>\n",
       "      <th>100</th>\n",
       "      <th>101</th>\n",
       "      <th>102</th>\n",
       "      <th>target</th>\n",
       "    </tr>\n",
       "  </thead>\n",
       "  <tbody>\n",
       "    <tr>\n",
       "      <th>0</th>\n",
       "      <td>0.080875</td>\n",
       "      <td>0.062375</td>\n",
       "      <td>0.058000</td>\n",
       "      <td>0.046375</td>\n",
       "      <td>0.036375</td>\n",
       "      <td>0.039875</td>\n",
       "      <td>0.045625</td>\n",
       "      <td>0.04025</td>\n",
       "      <td>0.037000</td>\n",
       "      <td>0.038125</td>\n",
       "      <td>...</td>\n",
       "      <td>0.427000</td>\n",
       "      <td>0.416875</td>\n",
       "      <td>0.396053</td>\n",
       "      <td>0.392157</td>\n",
       "      <td>0.389172</td>\n",
       "      <td>0.390585</td>\n",
       "      <td>0.402625</td>\n",
       "      <td>0.394610</td>\n",
       "      <td>0.406250</td>\n",
       "      <td>0.0</td>\n",
       "    </tr>\n",
       "    <tr>\n",
       "      <th>1</th>\n",
       "      <td>0.075500</td>\n",
       "      <td>0.068250</td>\n",
       "      <td>0.065875</td>\n",
       "      <td>0.056875</td>\n",
       "      <td>0.047250</td>\n",
       "      <td>0.047125</td>\n",
       "      <td>0.042000</td>\n",
       "      <td>0.03925</td>\n",
       "      <td>0.040500</td>\n",
       "      <td>0.041125</td>\n",
       "      <td>...</td>\n",
       "      <td>0.322875</td>\n",
       "      <td>0.317250</td>\n",
       "      <td>0.300955</td>\n",
       "      <td>0.301120</td>\n",
       "      <td>0.299490</td>\n",
       "      <td>0.296183</td>\n",
       "      <td>0.305250</td>\n",
       "      <td>0.296212</td>\n",
       "      <td>0.316000</td>\n",
       "      <td>0.0</td>\n",
       "    </tr>\n",
       "    <tr>\n",
       "      <th>2</th>\n",
       "      <td>0.077625</td>\n",
       "      <td>0.093250</td>\n",
       "      <td>0.069500</td>\n",
       "      <td>0.045000</td>\n",
       "      <td>0.035625</td>\n",
       "      <td>0.037500</td>\n",
       "      <td>0.034250</td>\n",
       "      <td>0.03450</td>\n",
       "      <td>0.041500</td>\n",
       "      <td>0.039875</td>\n",
       "      <td>...</td>\n",
       "      <td>0.286000</td>\n",
       "      <td>0.280250</td>\n",
       "      <td>0.260726</td>\n",
       "      <td>0.261777</td>\n",
       "      <td>0.264331</td>\n",
       "      <td>0.270483</td>\n",
       "      <td>0.288500</td>\n",
       "      <td>0.281083</td>\n",
       "      <td>0.295125</td>\n",
       "      <td>0.0</td>\n",
       "    </tr>\n",
       "    <tr>\n",
       "      <th>3</th>\n",
       "      <td>0.079625</td>\n",
       "      <td>0.074000</td>\n",
       "      <td>0.060250</td>\n",
       "      <td>0.069500</td>\n",
       "      <td>0.063500</td>\n",
       "      <td>0.035500</td>\n",
       "      <td>0.022250</td>\n",
       "      <td>0.02475</td>\n",
       "      <td>0.024125</td>\n",
       "      <td>0.028000</td>\n",
       "      <td>...</td>\n",
       "      <td>0.334375</td>\n",
       "      <td>0.326125</td>\n",
       "      <td>0.305029</td>\n",
       "      <td>0.306213</td>\n",
       "      <td>0.308408</td>\n",
       "      <td>0.309033</td>\n",
       "      <td>0.321625</td>\n",
       "      <td>0.316044</td>\n",
       "      <td>0.330500</td>\n",
       "      <td>0.0</td>\n",
       "    </tr>\n",
       "    <tr>\n",
       "      <th>4</th>\n",
       "      <td>0.078125</td>\n",
       "      <td>0.070000</td>\n",
       "      <td>0.060000</td>\n",
       "      <td>0.045000</td>\n",
       "      <td>0.047125</td>\n",
       "      <td>0.042625</td>\n",
       "      <td>0.033000</td>\n",
       "      <td>0.02600</td>\n",
       "      <td>0.028875</td>\n",
       "      <td>0.033250</td>\n",
       "      <td>...</td>\n",
       "      <td>0.299000</td>\n",
       "      <td>0.293000</td>\n",
       "      <td>0.272947</td>\n",
       "      <td>0.277820</td>\n",
       "      <td>0.288535</td>\n",
       "      <td>0.290585</td>\n",
       "      <td>0.298250</td>\n",
       "      <td>0.292016</td>\n",
       "      <td>0.307000</td>\n",
       "      <td>0.0</td>\n",
       "    </tr>\n",
       "  </tbody>\n",
       "</table>\n",
       "<p>5 rows × 104 columns</p>\n",
       "</div>"
      ],
      "text/plain": [
       "          0         1         2         3         4         5         6  \\\n",
       "0  0.080875  0.062375  0.058000  0.046375  0.036375  0.039875  0.045625   \n",
       "1  0.075500  0.068250  0.065875  0.056875  0.047250  0.047125  0.042000   \n",
       "2  0.077625  0.093250  0.069500  0.045000  0.035625  0.037500  0.034250   \n",
       "3  0.079625  0.074000  0.060250  0.069500  0.063500  0.035500  0.022250   \n",
       "4  0.078125  0.070000  0.060000  0.045000  0.047125  0.042625  0.033000   \n",
       "\n",
       "         7         8         9  ...        94        95        96        97  \\\n",
       "0  0.04025  0.037000  0.038125  ...  0.427000  0.416875  0.396053  0.392157   \n",
       "1  0.03925  0.040500  0.041125  ...  0.322875  0.317250  0.300955  0.301120   \n",
       "2  0.03450  0.041500  0.039875  ...  0.286000  0.280250  0.260726  0.261777   \n",
       "3  0.02475  0.024125  0.028000  ...  0.334375  0.326125  0.305029  0.306213   \n",
       "4  0.02600  0.028875  0.033250  ...  0.299000  0.293000  0.272947  0.277820   \n",
       "\n",
       "         98        99       100       101       102  target  \n",
       "0  0.389172  0.390585  0.402625  0.394610  0.406250     0.0  \n",
       "1  0.299490  0.296183  0.305250  0.296212  0.316000     0.0  \n",
       "2  0.264331  0.270483  0.288500  0.281083  0.295125     0.0  \n",
       "3  0.308408  0.309033  0.321625  0.316044  0.330500     0.0  \n",
       "4  0.288535  0.290585  0.298250  0.292016  0.307000     0.0  \n",
       "\n",
       "[5 rows x 104 columns]"
      ]
     },
     "execution_count": 10,
     "metadata": {},
     "output_type": "execute_result"
    }
   ],
   "source": [
    "df.head()"
   ]
  },
  {
   "cell_type": "code",
   "execution_count": 11,
   "metadata": {},
   "outputs": [
    {
     "name": "stdout",
     "output_type": "stream",
     "text": [
      "Size for class 1: 6631\n",
      "Selected size: 331\n",
      "\n",
      "\n",
      "Size for class 2: 18649\n",
      "Selected size: 932\n",
      "\n",
      "\n",
      "Size for class 3: 2099\n",
      "Selected size: 104\n",
      "\n",
      "\n",
      "Size for class 4: 3064\n",
      "Selected size: 153\n",
      "\n",
      "\n",
      "Size for class 5: 1345\n",
      "Selected size: 67\n",
      "\n",
      "\n",
      "Size for class 6: 5029\n",
      "Selected size: 251\n",
      "\n",
      "\n",
      "Size for class 7: 1330\n",
      "Selected size: 66\n",
      "\n",
      "\n",
      "Size for class 8: 3682\n",
      "Selected size: 184\n",
      "\n",
      "\n",
      "Size for class 9: 947\n",
      "Selected size: 47\n",
      "\n",
      "\n"
     ]
    }
   ],
   "source": [
    "dfs = []\n",
    "for class_idx in range(1, n_classes):\n",
    "    sub_df = df[df[\"target\"] == class_idx]\n",
    "    print(f\"Size for class {class_idx}: {sub_df.shape[0]}\")\n",
    "    print(f\"Selected size: {int(0.05 * sub_df.shape[0])}\\n\\n\")\n",
    "    sub_df = sub_df.sample(n=int(0.05 * sub_df.shape[0]), replace=False, random_state=0)\n",
    "    dfs.append(sub_df)\n",
    "\n",
    "dfs = pd.concat(dfs).sample(frac=1).reset_index(drop=True)\n",
    "dfs[\"target\"] = dfs[\"target\"].astype(int)\n",
    "dfs.to_csv(f'dataset_pavia.dat', sep=\" \", index=False, float_format='%1.6f', header=False)"
   ]
  }
 ],
 "metadata": {
  "kernelspec": {
   "display_name": "base",
   "language": "python",
   "name": "python3"
  },
  "language_info": {
   "codemirror_mode": {
    "name": "ipython",
    "version": 3
   },
   "file_extension": ".py",
   "mimetype": "text/x-python",
   "name": "python",
   "nbconvert_exporter": "python",
   "pygments_lexer": "ipython3",
   "version": "3.11.5"
  }
 },
 "nbformat": 4,
 "nbformat_minor": 2
}
