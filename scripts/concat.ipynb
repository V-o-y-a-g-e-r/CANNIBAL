{
 "cells": [
  {
   "cell_type": "code",
   "execution_count": 14,
   "metadata": {},
   "outputs": [],
   "source": [
    "import pandas as pd\n",
    "import numpy as np\n",
    "\n",
    "# vig_vs_bombs_wilcoxon_p_val_metrics_mae_mean\n",
    "\n",
    "models = [\"bombs\", \"mi\", \"random\"]\n",
    "metric_name = [\"mae_mean\", \"mse_mean\", \"r2_mean\"]\n",
    "\n",
    "data = {}\n",
    "\n",
    "for metric_n in metric_name:\n",
    "    data = {}\n",
    "    for model_n in models:\n",
    "        d = pd.read_csv(\n",
    "            f\"vig_vs_{model_n}_wilcoxon_p_val_metrics_{metric_n}.csv\", sep=\";\"\n",
    "        )\n",
    "        data[f\"{model_n}\"] = np.squeeze(d.values)\n",
    "\n",
    "    data = pd.DataFrame(data).T\n",
    "    data.columns = d.columns\n",
    "    del data[\"Unnamed: 0\"]\n",
    "    data = data.T\n",
    "    data.to_csv(\n",
    "        f\"all_{metric_n}.csv\",\n",
    "        index_label=\"Number of bands\",\n",
    "        sep=\";\",\n",
    "        float_format=\"%1.3f\",\n",
    "    )\n",
    "    pass"
   ]
  }
 ],
 "metadata": {
  "kernelspec": {
   "display_name": "base",
   "language": "python",
   "name": "python3"
  },
  "language_info": {
   "codemirror_mode": {
    "name": "ipython",
    "version": 3
   },
   "file_extension": ".py",
   "mimetype": "text/x-python",
   "name": "python",
   "nbconvert_exporter": "python",
   "pygments_lexer": "ipython3",
   "version": "3.11.5"
  }
 },
 "nbformat": 4,
 "nbformat_minor": 2
}
