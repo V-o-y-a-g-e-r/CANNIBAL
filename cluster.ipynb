{
 "cells": [
  {
   "cell_type": "code",
   "execution_count": 2,
   "metadata": {},
   "outputs": [],
   "source": [
    "import pandas as pd\n",
    "agg_vig = pd.read_csv(r\"C:\\Users\\luktu\\Downloads\\gawll (1)\\others\\eVIG_dataset_pavia_c1_a1_r1.csv\", header=None).values"
   ]
  },
  {
   "cell_type": "code",
   "execution_count": 3,
   "metadata": {},
   "outputs": [
    {
     "data": {
      "text/plain": [
       "(103, 103)"
      ]
     },
     "execution_count": 3,
     "metadata": {},
     "output_type": "execute_result"
    }
   ],
   "source": [
    "agg_vig.shape"
   ]
  },
  {
   "cell_type": "code",
   "execution_count": 9,
   "metadata": {},
   "outputs": [],
   "source": [
    "\n",
    "\n",
    "\n"
   ]
  },
  {
   "cell_type": "code",
   "execution_count": 11,
   "metadata": {},
   "outputs": [
    {
     "data": {
      "text/plain": [
       "array([ 1,  3, 10, 16, 22, 28, 32, 39, 47, 50, 54, 63, 64, 66, 67, 68, 84,\n",
       "       86, 87, 90, 93, 98], dtype=int64)"
      ]
     },
     "execution_count": 11,
     "metadata": {},
     "output_type": "execute_result"
    }
   ],
   "source": [
    "cluster_centers_indices"
   ]
  },
  {
   "cell_type": "code",
   "execution_count": 12,
   "metadata": {},
   "outputs": [
    {
     "data": {
      "text/plain": [
       "array([18,  0,  4,  1, 11, 16,  8,  6,  6,  2,  2, 20, 11,  8,  2,  1,  3,\n",
       "       17, 18, 14,  3, 13,  4,  0, 13,  6,  0,  5,  5, 10,  4,  9,  6, 19,\n",
       "        1, 11, 14, 14,  7,  7, 19,  2, 21, 18,  4, 18, 10,  8,  8, 21,  9,\n",
       "       18, 11, 15, 10,  3, 13,  1, 16,  6,  9, 10,  6, 11, 12,  3, 13, 14,\n",
       "       15, 21,  1,  0, 15, 11,  9, 17,  8,  6, 17, 14, 20, 14,  3,  4, 16,\n",
       "        5, 17, 18,  9,  2, 19, 15,  1, 20, 14, 17,  2, 12, 21, 19, 12, 13,\n",
       "       12], dtype=int64)"
      ]
     },
     "execution_count": 12,
     "metadata": {},
     "output_type": "execute_result"
    }
   ],
   "source": [
    "labels"
   ]
  },
  {
   "cell_type": "code",
   "execution_count": 13,
   "metadata": {},
   "outputs": [
    {
     "data": {
      "text/plain": [
       "(array([ 0,  1,  2,  3,  4,  5,  6,  7,  8,  9, 10, 11, 12, 13, 14, 15, 16,\n",
       "        17, 18, 19, 20, 21], dtype=int64),\n",
       " array([4, 6, 6, 5, 5, 3, 7, 2, 5, 5, 4, 6, 4, 5, 7, 4, 3, 5, 6, 4, 3, 4],\n",
       "       dtype=int64))"
      ]
     },
     "execution_count": 13,
     "metadata": {},
     "output_type": "execute_result"
    }
   ],
   "source": [
    "import numpy as np\n",
    "np.unique(labels, return_counts=True)"
   ]
  },
  {
   "cell_type": "code",
   "execution_count": null,
   "metadata": {},
   "outputs": [],
   "source": []
  }
 ],
 "metadata": {
  "kernelspec": {
   "display_name": "base",
   "language": "python",
   "name": "python3"
  },
  "language_info": {
   "codemirror_mode": {
    "name": "ipython",
    "version": 3
   },
   "file_extension": ".py",
   "mimetype": "text/x-python",
   "name": "python",
   "nbconvert_exporter": "python",
   "pygments_lexer": "ipython3",
   "version": "3.11.5"
  }
 },
 "nbformat": 4,
 "nbformat_minor": 2
}
